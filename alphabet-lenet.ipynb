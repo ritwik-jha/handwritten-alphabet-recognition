{
 "cells": [
  {
   "cell_type": "code",
   "execution_count": 45,
   "id": "systematic-insulin",
   "metadata": {},
   "outputs": [],
   "source": [
    "import pandas as pd\n",
    "import numpy as np\n",
    "import matplotlib.pyplot as plt\n",
    "from sklearn.model_selection import train_test_split"
   ]
  },
  {
   "cell_type": "code",
   "execution_count": 3,
   "id": "attractive-contrast",
   "metadata": {},
   "outputs": [],
   "source": [
    "df = pd.read_csv('A_Z Handwritten Data.csv')"
   ]
  },
  {
   "cell_type": "code",
   "execution_count": 46,
   "id": "flush-dress",
   "metadata": {},
   "outputs": [
    {
     "data": {
      "text/plain": [
       "(372450, 785)"
      ]
     },
     "execution_count": 46,
     "metadata": {},
     "output_type": "execute_result"
    }
   ],
   "source": [
    "df.shape"
   ]
  },
  {
   "cell_type": "code",
   "execution_count": 47,
   "id": "therapeutic-owner",
   "metadata": {},
   "outputs": [],
   "source": [
    "X = df.drop('0', axis=1)\n",
    "y = df['0']\n",
    "\n",
    "X_train, X_test, y_train, y_test = train_test_split(X, y, test_size=0.33, random_state=42)\n",
    "\n",
    "X_train_con = np.reshape(X_train.values, (X_train.shape[0], 28, 28, 1))\n",
    "X_test_con = np.reshape(X_test.values, (X_test.shape[0], 28, 28, 1))\n",
    "\n",
    "y_train_con = pd.get_dummies(y_train)\n",
    "y_test_con = pd.get_dummies(y_test)\n",
    "\n",
    "input_shape = (28, 28, 1)"
   ]
  },
  {
   "cell_type": "code",
   "execution_count": 50,
   "id": "handled-bunny",
   "metadata": {},
   "outputs": [],
   "source": [
    "from keras.models import Sequential\n",
    "from keras.layers import Dense, Dropout, Activation, Flatten\n",
    "from keras.layers import Conv2D, MaxPooling2D, ZeroPadding2D\n",
    "from keras.layers.normalization import BatchNormalization\n",
    "from keras.regularizers import l2\n",
    "from keras.datasets import mnist\n",
    "from keras.utils import np_utils\n",
    "import keras"
   ]
  },
  {
   "cell_type": "code",
   "execution_count": 51,
   "id": "starting-spokesman",
   "metadata": {},
   "outputs": [],
   "source": [
    "# Creating the model\n",
    "model = Sequential()\n",
    "\n",
    "# CRP 1\n",
    "model.add(Conv2D(20, (5, 5), padding = \"same\", input_shape = input_shape))\n",
    "model.add(Activation(\"relu\"))\n",
    "model.add(MaxPooling2D(pool_size = (2, 2), strides = (2, 2)))\n",
    "\n",
    "#CRP 2\n",
    "model.add(Conv2D(50, (5, 5), padding = \"same\"))\n",
    "model.add(Activation(\"relu\"))\n",
    "model.add(MaxPooling2D(pool_size = (2, 2), strides = (2, 2)))\n",
    "\n",
    "# Fully connected layers (w/ RELU)\n",
    "model.add(Flatten())\n",
    "model.add(Dense(500))\n",
    "model.add(Activation(\"relu\"))\n",
    "\n",
    "# Softmax (for classification)\n",
    "model.add(Dense(y_train_con.shape[1]))\n",
    "model.add(Activation(\"softmax\"))\n",
    "           \n",
    "model.compile(loss = 'categorical_crossentropy',\n",
    "              optimizer = keras.optimizers.Adadelta(),\n",
    "              metrics = ['accuracy'])"
   ]
  },
  {
   "cell_type": "code",
   "execution_count": 53,
   "id": "complimentary-handling",
   "metadata": {},
   "outputs": [
    {
     "name": "stdout",
     "output_type": "stream",
     "text": [
      "Model: \"sequential_1\"\n",
      "_________________________________________________________________\n",
      "Layer (type)                 Output Shape              Param #   \n",
      "=================================================================\n",
      "conv2d_2 (Conv2D)            (None, 28, 28, 20)        520       \n",
      "_________________________________________________________________\n",
      "activation_4 (Activation)    (None, 28, 28, 20)        0         \n",
      "_________________________________________________________________\n",
      "max_pooling2d_2 (MaxPooling2 (None, 14, 14, 20)        0         \n",
      "_________________________________________________________________\n",
      "conv2d_3 (Conv2D)            (None, 14, 14, 50)        25050     \n",
      "_________________________________________________________________\n",
      "activation_5 (Activation)    (None, 14, 14, 50)        0         \n",
      "_________________________________________________________________\n",
      "max_pooling2d_3 (MaxPooling2 (None, 7, 7, 50)          0         \n",
      "_________________________________________________________________\n",
      "flatten_1 (Flatten)          (None, 2450)              0         \n",
      "_________________________________________________________________\n",
      "dense_2 (Dense)              (None, 500)               1225500   \n",
      "_________________________________________________________________\n",
      "activation_6 (Activation)    (None, 500)               0         \n",
      "_________________________________________________________________\n",
      "dense_3 (Dense)              (None, 26)                13026     \n",
      "_________________________________________________________________\n",
      "activation_7 (Activation)    (None, 26)                0         \n",
      "=================================================================\n",
      "Total params: 1,264,096\n",
      "Trainable params: 1,264,096\n",
      "Non-trainable params: 0\n",
      "_________________________________________________________________\n"
     ]
    }
   ],
   "source": [
    "model.summary()"
   ]
  },
  {
   "cell_type": "code",
   "execution_count": 54,
   "id": "opposite-builder",
   "metadata": {},
   "outputs": [
    {
     "name": "stdout",
     "output_type": "stream",
     "text": [
      "Epoch 1/10\n",
      "1950/1950 [==============================] - 182s 93ms/step - loss: 9.9524 - accuracy: 0.4273 - val_loss: 2.9586 - val_accuracy: 0.6404\n",
      "Epoch 2/10\n",
      "1950/1950 [==============================] - 139s 71ms/step - loss: 2.1693 - accuracy: 0.7112 - val_loss: 1.6506 - val_accuracy: 0.7574\n",
      "Epoch 3/10\n",
      "1950/1950 [==============================] - 146s 75ms/step - loss: 1.3955 - accuracy: 0.7868 - val_loss: 1.1929 - val_accuracy: 0.8086\n",
      "Epoch 4/10\n",
      "1950/1950 [==============================] - 145s 75ms/step - loss: 1.0669 - accuracy: 0.8256 - val_loss: 0.9580 - val_accuracy: 0.8375\n",
      "Epoch 5/10\n",
      "1950/1950 [==============================] - 147s 75ms/step - loss: 0.8791 - accuracy: 0.8494 - val_loss: 0.8137 - val_accuracy: 0.8574\n",
      "Epoch 6/10\n",
      "1950/1950 [==============================] - 147s 75ms/step - loss: 0.7542 - accuracy: 0.8669 - val_loss: 0.7089 - val_accuracy: 0.8719\n",
      "Epoch 7/10\n",
      "1950/1950 [==============================] - 148s 76ms/step - loss: 0.6640 - accuracy: 0.8799 - val_loss: 0.6337 - val_accuracy: 0.8826\n",
      "Epoch 8/10\n",
      "1950/1950 [==============================] - 147s 75ms/step - loss: 0.5951 - accuracy: 0.8896 - val_loss: 0.5774 - val_accuracy: 0.8914\n",
      "Epoch 9/10\n",
      "1950/1950 [==============================] - 148s 76ms/step - loss: 0.5403 - accuracy: 0.8977 - val_loss: 0.5276 - val_accuracy: 0.8986\n",
      "Epoch 10/10\n",
      "1950/1950 [==============================] - 148s 76ms/step - loss: 0.4956 - accuracy: 0.9047 - val_loss: 0.4888 - val_accuracy: 0.9041\n"
     ]
    },
    {
     "data": {
      "text/plain": [
       "<tensorflow.python.keras.callbacks.History at 0x2809e7ce3d0>"
      ]
     },
     "execution_count": 54,
     "metadata": {},
     "output_type": "execute_result"
    }
   ],
   "source": [
    "# fitting the data\n",
    "batch_size = 128\n",
    "\n",
    "model.fit(X_train_con, y_train_con,\n",
    "         batch_size = batch_size,\n",
    "         epochs = 10,\n",
    "         validation_data = (X_test_con, y_test_con),\n",
    "         shuffle = True)"
   ]
  },
  {
   "cell_type": "code",
   "execution_count": 55,
   "id": "universal-blackjack",
   "metadata": {},
   "outputs": [],
   "source": [
    "model.save('az-lenet.h5')"
   ]
  },
  {
   "cell_type": "code",
   "execution_count": 89,
   "id": "miniature-absorption",
   "metadata": {},
   "outputs": [],
   "source": [
    "sample = X_test.iloc[25]"
   ]
  },
  {
   "cell_type": "code",
   "execution_count": 90,
   "id": "bearing-summary",
   "metadata": {},
   "outputs": [
    {
     "data": {
      "text/plain": [
       "(784,)"
      ]
     },
     "execution_count": 90,
     "metadata": {},
     "output_type": "execute_result"
    }
   ],
   "source": [
    "sample.shape"
   ]
  },
  {
   "cell_type": "code",
   "execution_count": 91,
   "id": "helpful-account",
   "metadata": {},
   "outputs": [],
   "source": [
    "sample = np.reshape(sample.values, (1, 28, 28, 1))"
   ]
  },
  {
   "cell_type": "code",
   "execution_count": 92,
   "id": "preliminary-carpet",
   "metadata": {},
   "outputs": [],
   "source": [
    "pred = model.predict(sample)"
   ]
  },
  {
   "cell_type": "code",
   "execution_count": 93,
   "id": "female-frederick",
   "metadata": {},
   "outputs": [
    {
     "data": {
      "text/plain": [
       "array([4.68606049e-16, 9.60291331e-08, 9.07785641e-19, 9.14742827e-01,\n",
       "       1.69994973e-11, 3.21143834e-14, 7.31555556e-18, 3.34992552e-14,\n",
       "       8.52542594e-02, 2.48973144e-08, 8.47118974e-17, 4.48769624e-12,\n",
       "       6.59809429e-11, 9.85068450e-12, 7.35371399e-12, 4.55647097e-07,\n",
       "       3.73902853e-11, 1.00012595e-13, 1.67853453e-10, 7.13272323e-13,\n",
       "       5.52952358e-14, 4.19060515e-11, 1.60007034e-12, 4.12568688e-13,\n",
       "       1.21986785e-08, 2.36161168e-06], dtype=float32)"
      ]
     },
     "execution_count": 93,
     "metadata": {},
     "output_type": "execute_result"
    }
   ],
   "source": [
    "pred[0]"
   ]
  },
  {
   "cell_type": "code",
   "execution_count": 75,
   "id": "discrete-consequence",
   "metadata": {},
   "outputs": [],
   "source": [
    "def output(pred):\n",
    "    max_ = 0\n",
    "    index = 0\n",
    "    for i in range(len(pred[0])):\n",
    "        if pred[0][i] > max_:\n",
    "            max_ = pred[0][i]\n",
    "            index = i\n",
    "            \n",
    "    if index == 0:\n",
    "        return 'A'\n",
    "    elif index == 1:\n",
    "        return 'B'\n",
    "    elif index == 2:\n",
    "        return 'C'\n",
    "    elif index == 3:\n",
    "        return 'D'\n",
    "    elif index == 4:\n",
    "        return 'E'\n",
    "    elif index == 5:\n",
    "        return 'F'\n",
    "    elif index == 6:\n",
    "        return 'G'\n",
    "    elif index == 7:\n",
    "        return 'H'\n",
    "    elif index == 8:\n",
    "        return 'I'\n",
    "    elif index == 9:\n",
    "        return 'J'\n",
    "    elif index == 10:\n",
    "        return 'K'\n",
    "    elif index == 11:\n",
    "        return 'L'\n",
    "    elif index == 12:\n",
    "        return 'M'\n",
    "    elif index == 13:\n",
    "        return 'N'\n",
    "    elif index == 14:\n",
    "        return 'O'\n",
    "    elif index == 15:\n",
    "        return 'P'\n",
    "    elif index == 16:\n",
    "        return 'Q'\n",
    "    elif index == 17:\n",
    "        return 'R'\n",
    "    elif index == 18:\n",
    "        return 'S'\n",
    "    elif index == 19:\n",
    "        return 'T'\n",
    "    elif index == 20:\n",
    "        return 'U'\n",
    "    elif index == 21:\n",
    "        return 'V'\n",
    "    elif index == 22:\n",
    "        return 'W'\n",
    "    elif index == 23:\n",
    "        return 'X'\n",
    "    elif index == 24:\n",
    "        return 'Y'\n",
    "    else:\n",
    "        return 'Z'"
   ]
  },
  {
   "cell_type": "code",
   "execution_count": 94,
   "id": "center-genre",
   "metadata": {},
   "outputs": [
    {
     "data": {
      "text/plain": [
       "'D'"
      ]
     },
     "execution_count": 94,
     "metadata": {},
     "output_type": "execute_result"
    }
   ],
   "source": [
    "output(pred)"
   ]
  },
  {
   "cell_type": "code",
   "execution_count": 85,
   "id": "funded-reporter",
   "metadata": {},
   "outputs": [],
   "source": [
    "sample_img = X_test.iloc[25]"
   ]
  },
  {
   "cell_type": "code",
   "execution_count": 86,
   "id": "ongoing-apache",
   "metadata": {},
   "outputs": [
    {
     "data": {
      "text/plain": [
       "(784,)"
      ]
     },
     "execution_count": 86,
     "metadata": {},
     "output_type": "execute_result"
    }
   ],
   "source": [
    "sample_img.shape"
   ]
  },
  {
   "cell_type": "code",
   "execution_count": 87,
   "id": "reported-highlight",
   "metadata": {},
   "outputs": [],
   "source": [
    "sample_img = np.reshape(sample_img.values, (28, 28, 1))"
   ]
  },
  {
   "cell_type": "code",
   "execution_count": 88,
   "id": "convenient-workshop",
   "metadata": {},
   "outputs": [
    {
     "data": {
      "text/plain": [
       "<matplotlib.image.AxesImage at 0x2809f39fd60>"
      ]
     },
     "execution_count": 88,
     "metadata": {},
     "output_type": "execute_result"
    },
    {
     "data": {
      "image/png": "[encoded data removed]",
      "text/plain": [
       "<Figure size 432x288 with 1 Axes>"
      ]
     },
     "metadata": {
      "needs_background": "light"
     },
     "output_type": "display_data"
    }
   ],
   "source": [
    "plt.imshow(sample_img)"
   ]
  },
  {
   "cell_type": "code",
   "execution_count": null,
   "id": "indirect-compensation",
   "metadata": {},
   "outputs": [],
   "source": []
  }
 ],
 "metadata": {
  "kernelspec": {
   "display_name": "Python 3",
   "language": "python",
   "name": "python3"
  },
  "language_info": {
   "codemirror_mode": {
    "name": "ipython",
    "version": 3
   },
   "file_extension": ".py",
   "mimetype": "text/x-python",
   "name": "python",
   "nbconvert_exporter": "python",
   "pygments_lexer": "ipython3",
   "version": "3.8.5"
  }
 },
 "nbformat": 4,
 "nbformat_minor": 5
}
